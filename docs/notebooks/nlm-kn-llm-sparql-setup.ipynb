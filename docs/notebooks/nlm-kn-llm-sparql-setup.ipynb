{
 "cells": [
  {
   "cell_type": "markdown",
   "id": "32c5abef-9c4d-415b-b6df-04557207fd37",
   "metadata": {},
   "source": [
    "## SPARQL query examples loader\n"
   ]
  },
  {
   "cell_type": "code",
   "execution_count": 1,
   "id": "41f122b2-e92e-4334-b4d2-de5a9bf24b6c",
   "metadata": {},
   "outputs": [
    {
     "name": "stdout",
     "output_type": "stream",
     "text": [
      "124\n",
      "{'question': 'Select all taxa from the UniProt taxonomy', 'answer': 'PREFIX up: <http://purl.uniprot.org/core/>\\n\\nSELECT ?taxon\\nFROM <http://sparql.uniprot.org/taxonomy>\\nWHERE\\n{\\n    ?taxon a up:Taxon .\\n}', 'endpoint_url': 'https://sparql.uniprot.org/sparql/', 'query_type': 'SelectQuery', 'doc_type': 'sparql_query'}\n"
     ]
    }
   ],
   "source": [
    "from sparql_llm import SparqlExamplesLoader\n",
    "\n",
    "loader = SparqlExamplesLoader(\"https://sparql.uniprot.org/sparql/\")\n",
    "docs = loader.load()\n",
    "print(len(docs))\n",
    "print(docs[0].metadata)"
   ]
  },
  {
   "cell_type": "markdown",
   "id": "0abf5633-1c3e-4051-89d9-e50974b22edc",
   "metadata": {},
   "source": [
    "## SPARQL endpoint schema loader\n",
    "Generate a human-readable schema using the ShEx format to describe all classes of a SPARQL endpoint based on the VoID description present in the endpoint. Ideally the endpoint should also contain the ontology describing the classes, so the rdfs:label and rdfs:comment of the classes can be used to generate embeddings and improve semantic matching."
   ]
  },
  {
   "cell_type": "code",
   "execution_count": 2,
   "id": "08ba8060-bcd3-410d-8866-b2c84fe56a7c",
   "metadata": {},
   "outputs": [
    {
     "name": "stdout",
     "output_type": "stream",
     "text": [
      "243\n",
      "{'question': 'Citation Statement', 'answer': 'up:Citation_Statement {\\n  a [ up:Citation_Statement ] ;\\n  up:mappedAnnotation [ up:Annotation ] ;\\n  up:scope xsd:string ;\\n  up:attribution IRI ;\\n  rdf:object [ up:Book_Citation up:Electronic_Citation up:Journal_Citation up:Observation_Citation up:Patent_Citation up:Submission_Citation up:Thesis_Citation ] ;\\n  rdf:predicate IRI ;\\n  rdf:subject [ up:Protein ] ;\\n  up:context [ up:Plasmid up:Strain up:Tissue up:Transposon ]\\n}', 'endpoint_url': 'https://sparql.uniprot.org/sparql/', 'class_uri': 'http://purl.uniprot.org/core/Citation_Statement', 'doc_type': 'shex'}\n"
     ]
    }
   ],
   "source": [
    "from sparql_llm import SparqlVoidShapesLoader\n",
    "\n",
    "loader = SparqlVoidShapesLoader(\"https://sparql.uniprot.org/sparql/\")\n",
    "docs = loader.load()\n",
    "print(len(docs))\n",
    "print(docs[0].metadata)"
   ]
  },
  {
   "cell_type": "markdown",
   "id": "eb824427-33cf-4b43-9a4b-5c228238f19d",
   "metadata": {},
   "source": [
    "The generated shapes are well-suited for use with a LLM or a human, as they provide clear information about which predicates are available for a class, and the corresponding classes or datatypes those predicates point to. Each object property references a list of classes rather than another shape, making each shape self-contained and interpretable on its own, e.g. for a Disease Annotation in UniProt:"
   ]
  },
  {
   "cell_type": "code",
   "execution_count": 3,
   "id": "c5e06b46-20b6-4e1d-8075-b5185ef66e9f",
   "metadata": {},
   "outputs": [
    {
     "data": {
      "text/html": [
       "<style type=\"text/css\">\n",
       "#T_8f0db_row0_col0, #T_8f0db_row0_col1, #T_8f0db_row0_col2, #T_8f0db_row1_col0, #T_8f0db_row1_col1, #T_8f0db_row1_col2, #T_8f0db_row2_col0, #T_8f0db_row2_col1, #T_8f0db_row2_col2, #T_8f0db_row3_col0, #T_8f0db_row3_col1, #T_8f0db_row3_col2, #T_8f0db_row4_col0, #T_8f0db_row4_col1, #T_8f0db_row4_col2, #T_8f0db_row5_col0, #T_8f0db_row5_col1, #T_8f0db_row5_col2, #T_8f0db_row6_col0, #T_8f0db_row6_col1, #T_8f0db_row6_col2, #T_8f0db_row7_col0, #T_8f0db_row7_col1, #T_8f0db_row7_col2, #T_8f0db_row8_col0, #T_8f0db_row8_col1, #T_8f0db_row8_col2, #T_8f0db_row9_col0, #T_8f0db_row9_col1, #T_8f0db_row9_col2 {\n",
       "  white-space: pre-wrap;\n",
       "  text-align: left;\n",
       "}\n",
       "</style>\n",
       "<table id=\"T_8f0db\">\n",
       "  <thead>\n",
       "    <tr>\n",
       "      <th class=\"blank level0\" >&nbsp;</th>\n",
       "      <th id=\"T_8f0db_level0_col0\" class=\"col_heading level0 col0\" >Disease Annotation</th>\n",
       "      <th id=\"T_8f0db_level0_col1\" class=\"col_heading level0 col1\" >Comment</th>\n",
       "      <th id=\"T_8f0db_level0_col2\" class=\"col_heading level0 col2\" >Disease</th>\n",
       "    </tr>\n",
       "  </thead>\n",
       "  <tbody>\n",
       "    <tr>\n",
       "      <th id=\"T_8f0db_level0_row0\" class=\"row_heading level0 row0\" >0</th>\n",
       "      <td id=\"T_8f0db_row0_col0\" class=\"data row0 col0\" >http://purl.uniprot.org/uniprot/Q9UDR5#SIP17D85FE178BE13B6</td>\n",
       "      <td id=\"T_8f0db_row0_col1\" class=\"data row0 col1\" >The disease is caused by variants affecting the gene represented in this entry. In hyperlysinemia 1, both enzymatic functions of AASS are defective and patients have increased serum lysine and possibly increased saccharopine. Some individuals, however, retain significant amounts of lysine-ketoglutarate reductase and present with saccharopinuria, a metabolic condition with few, if any, clinical manifestations.</td>\n",
       "      <td id=\"T_8f0db_row0_col2\" class=\"data row0 col2\" >http://purl.uniprot.org/diseases/1773</td>\n",
       "    </tr>\n",
       "    <tr>\n",
       "      <th id=\"T_8f0db_level0_row1\" class=\"row_heading level0 row1\" >1</th>\n",
       "      <td id=\"T_8f0db_row1_col0\" class=\"data row1 col0\" >http://purl.uniprot.org/uniprot/Q9UDR5#SIP77BA87EDDA8559D2</td>\n",
       "      <td id=\"T_8f0db_row1_col1\" class=\"data row1 col1\" >The protein represented in this entry is involved in disease pathogenesis. A selective decrease in mitochondrial NADP(H) levels due to NADK2 mutations causes a deficiency of NADPH-dependent mitochondrial enzymes, such as DECR1 and AASS.</td>\n",
       "      <td id=\"T_8f0db_row1_col2\" class=\"data row1 col2\" >http://purl.uniprot.org/diseases/4240</td>\n",
       "    </tr>\n",
       "    <tr>\n",
       "      <th id=\"T_8f0db_level0_row2\" class=\"row_heading level0 row2\" >2</th>\n",
       "      <td id=\"T_8f0db_row2_col0\" class=\"data row2 col0\" >http://purl.uniprot.org/uniprot/Q9UGJ0#SIP473418E25D4D3A3B</td>\n",
       "      <td id=\"T_8f0db_row2_col1\" class=\"data row2 col1\" >The disease is caused by variants affecting the gene represented in this entry.</td>\n",
       "      <td id=\"T_8f0db_row2_col2\" class=\"data row2 col2\" >http://purl.uniprot.org/diseases/1676</td>\n",
       "    </tr>\n",
       "    <tr>\n",
       "      <th id=\"T_8f0db_level0_row3\" class=\"row_heading level0 row3\" >3</th>\n",
       "      <td id=\"T_8f0db_row3_col0\" class=\"data row3 col0\" >http://purl.uniprot.org/uniprot/Q9UGJ0#SIPBA4A3C214C09B2B7</td>\n",
       "      <td id=\"T_8f0db_row3_col1\" class=\"data row3 col1\" >The disease is caused by variants affecting the gene represented in this entry.</td>\n",
       "      <td id=\"T_8f0db_row3_col2\" class=\"data row3 col2\" >http://purl.uniprot.org/diseases/245</td>\n",
       "    </tr>\n",
       "    <tr>\n",
       "      <th id=\"T_8f0db_level0_row4\" class=\"row_heading level0 row4\" >4</th>\n",
       "      <td id=\"T_8f0db_row4_col0\" class=\"data row4 col0\" >http://purl.uniprot.org/uniprot/Q9UGJ0#SIPF5992DDE995A022F</td>\n",
       "      <td id=\"T_8f0db_row4_col1\" class=\"data row4 col1\" >The disease is caused by variants affecting the gene represented in this entry.</td>\n",
       "      <td id=\"T_8f0db_row4_col2\" class=\"data row4 col2\" >http://purl.uniprot.org/diseases/1150</td>\n",
       "    </tr>\n",
       "    <tr>\n",
       "      <th id=\"T_8f0db_level0_row5\" class=\"row_heading level0 row5\" >5</th>\n",
       "      <td id=\"T_8f0db_row5_col0\" class=\"data row5 col0\" >http://purl.uniprot.org/uniprot/P00519#SIP961ECAA35D2F0134</td>\n",
       "      <td id=\"T_8f0db_row5_col1\" class=\"data row5 col1\" >The disease is caused by variants affecting the gene represented in this entry.</td>\n",
       "      <td id=\"T_8f0db_row5_col2\" class=\"data row5 col2\" >http://purl.uniprot.org/diseases/5064</td>\n",
       "    </tr>\n",
       "    <tr>\n",
       "      <th id=\"T_8f0db_level0_row6\" class=\"row_heading level0 row6\" >6</th>\n",
       "      <td id=\"T_8f0db_row6_col0\" class=\"data row6 col0\" >http://purl.uniprot.org/uniprot/P00519#SIPDFB66D0B5174D549</td>\n",
       "      <td id=\"T_8f0db_row6_col1\" class=\"data row6 col1\" >The gene represented in this entry is involved in disease pathogenesis.</td>\n",
       "      <td id=\"T_8f0db_row6_col2\" class=\"data row6 col2\" >http://purl.uniprot.org/diseases/3735</td>\n",
       "    </tr>\n",
       "    <tr>\n",
       "      <th id=\"T_8f0db_level0_row7\" class=\"row_heading level0 row7\" >7</th>\n",
       "      <td id=\"T_8f0db_row7_col0\" class=\"data row7 col0\" >http://purl.uniprot.org/uniprot/Q13085#SIPE73D1EB0068562AA</td>\n",
       "      <td id=\"T_8f0db_row7_col1\" class=\"data row7 col1\" >The disease is caused by variants affecting the gene represented in this entry.</td>\n",
       "      <td id=\"T_8f0db_row7_col2\" class=\"data row7 col2\" >http://purl.uniprot.org/diseases/1164</td>\n",
       "    </tr>\n",
       "    <tr>\n",
       "      <th id=\"T_8f0db_level0_row8\" class=\"row_heading level0 row8\" >8</th>\n",
       "      <td id=\"T_8f0db_row8_col0\" class=\"data row8 col0\" >http://purl.uniprot.org/uniprot/Q6UWZ7#SIP86B515DA1B7AD8CF</td>\n",
       "      <td id=\"T_8f0db_row8_col1\" class=\"data row8 col1\" >Disease susceptibility is associated with variants affecting the gene represented in this entry.</td>\n",
       "      <td id=\"T_8f0db_row8_col2\" class=\"data row8 col2\" >http://purl.uniprot.org/diseases/2602</td>\n",
       "    </tr>\n",
       "    <tr>\n",
       "      <th id=\"T_8f0db_level0_row9\" class=\"row_heading level0 row9\" >9</th>\n",
       "      <td id=\"T_8f0db_row9_col0\" class=\"data row9 col0\" >http://purl.uniprot.org/uniprot/A8K2U0#SIPCE73AF232236B8B1</td>\n",
       "      <td id=\"T_8f0db_row9_col1\" class=\"data row9 col1\" >Disease susceptibility is associated with variants affecting the gene represented in this entry.</td>\n",
       "      <td id=\"T_8f0db_row9_col2\" class=\"data row9 col2\" >http://purl.uniprot.org/diseases/5294</td>\n",
       "    </tr>\n",
       "  </tbody>\n",
       "</table>\n"
      ],
      "text/plain": [
       "<pandas.io.formats.style.Styler at 0x10929cb50>"
      ]
     },
     "metadata": {},
     "output_type": "display_data"
    }
   ],
   "source": [
    "from SPARQLWrapper import SPARQLWrapper, JSON\n",
    "import pandas as pd\n",
    "\n",
    "# Set up the UniProt SPARQL endpoint\n",
    "sparql = SPARQLWrapper(\"https://sparql.uniprot.org/sparql\")\n",
    "\n",
    "# Define a query to fetch available Disease Annotation data\n",
    "query_disease_annotations_simple = \"\"\"\n",
    "PREFIX up: <http://purl.uniprot.org/core/>\n",
    "PREFIX rdfs: <http://www.w3.org/2000/01/rdf-schema#>\n",
    "\n",
    "SELECT ?disease_annotation ?comment ?disease\n",
    "WHERE {\n",
    "  ?disease_annotation a up:Disease_Annotation ;\n",
    "                      rdfs:comment ?comment ;\n",
    "                      up:disease ?disease .\n",
    "}\n",
    "LIMIT 10\n",
    "\"\"\"\n",
    "\n",
    "# Execute the query and format the output in a DataFrame\n",
    "sparql.setQuery(query_disease_annotations_simple)\n",
    "sparql.setReturnFormat(JSON)\n",
    "\n",
    "try:\n",
    "    # Execute query and retrieve results\n",
    "    results_disease_simple = sparql.query().convert()\n",
    "    \n",
    "    # Parse the results\n",
    "    disease_data_simple = [\n",
    "        {\n",
    "            \"Disease Annotation\": result[\"disease_annotation\"][\"value\"],\n",
    "            \"Comment\": result[\"comment\"][\"value\"],\n",
    "            \"Disease\": result[\"disease\"][\"value\"]\n",
    "        }\n",
    "        for result in results_disease_simple[\"results\"][\"bindings\"]\n",
    "    ]\n",
    "    \n",
    "    # Create a DataFrame to display the results\n",
    "    df_disease_simple = pd.DataFrame(disease_data_simple)\n",
    "    \n",
    "    # Wrap text for 'Comment' column in Jupyter display\n",
    "    df_disease_simple_styled = df_disease_simple.style.set_properties(\n",
    "        **{'white-space': 'pre-wrap', 'text-align': 'left'}\n",
    "    )\n",
    "    \n",
    "    display(df_disease_simple_styled)\n",
    "except Exception as e:\n",
    "    print(f\"Error occurred: {e}\")\n"
   ]
  },
  {
   "cell_type": "code",
   "execution_count": 6,
   "id": "f74d63c2-19e6-45dc-afa6-6f35d6e04122",
   "metadata": {},
   "outputs": [
    {
     "data": {
      "text/html": [
       "<style type=\"text/css\">\n",
       "#T_6e192_row0_col0, #T_6e192_row0_col1, #T_6e192_row0_col2, #T_6e192_row0_col3, #T_6e192_row1_col0, #T_6e192_row1_col1, #T_6e192_row1_col2, #T_6e192_row1_col3, #T_6e192_row2_col0, #T_6e192_row2_col1, #T_6e192_row2_col2, #T_6e192_row2_col3, #T_6e192_row3_col0, #T_6e192_row3_col1, #T_6e192_row3_col2, #T_6e192_row3_col3, #T_6e192_row4_col0, #T_6e192_row4_col1, #T_6e192_row4_col2, #T_6e192_row4_col3, #T_6e192_row5_col0, #T_6e192_row5_col1, #T_6e192_row5_col2, #T_6e192_row5_col3, #T_6e192_row6_col0, #T_6e192_row6_col1, #T_6e192_row6_col2, #T_6e192_row6_col3, #T_6e192_row7_col0, #T_6e192_row7_col1, #T_6e192_row7_col2, #T_6e192_row7_col3, #T_6e192_row8_col0, #T_6e192_row8_col1, #T_6e192_row8_col2, #T_6e192_row8_col3, #T_6e192_row9_col0, #T_6e192_row9_col1, #T_6e192_row9_col2, #T_6e192_row9_col3 {\n",
       "  white-space: pre-wrap;\n",
       "  text-align: left;\n",
       "}\n",
       "</style>\n",
       "<table id=\"T_6e192\">\n",
       "  <thead>\n",
       "    <tr>\n",
       "      <th class=\"blank level0\" >&nbsp;</th>\n",
       "      <th id=\"T_6e192_level0_col0\" class=\"col_heading level0 col0\" >Disease</th>\n",
       "      <th id=\"T_6e192_level0_col1\" class=\"col_heading level0 col1\" >Comment</th>\n",
       "      <th id=\"T_6e192_level0_col2\" class=\"col_heading level0 col2\" >Variants</th>\n",
       "      <th id=\"T_6e192_level0_col3\" class=\"col_heading level0 col3\" >Genes</th>\n",
       "    </tr>\n",
       "  </thead>\n",
       "  <tbody>\n",
       "    <tr>\n",
       "      <th id=\"T_6e192_level0_row0\" class=\"row_heading level0 row0\" >0</th>\n",
       "      <td id=\"T_6e192_row0_col0\" class=\"data row0 col0\" >http://purl.uniprot.org/diseases/1773</td>\n",
       "      <td id=\"T_6e192_row0_col1\" class=\"data row0 col1\" >The disease is caused by variants affecting the gene represented in this entry. In hyperlysinemia 1, both enzymatic functions of AASS are defective and patients have increased serum lysine and possibly increased saccharopine. Some individuals, however, retain significant amounts of lysine-ketoglutarate reductase and present with saccharopinuria, a metabolic condition with few, if any, clinical manifestations.</td>\n",
       "      <td id=\"T_6e192_row0_col2\" class=\"data row0 col2\" >[]</td>\n",
       "      <td id=\"T_6e192_row0_col3\" class=\"data row0 col3\" >['AASS']</td>\n",
       "    </tr>\n",
       "    <tr>\n",
       "      <th id=\"T_6e192_level0_row1\" class=\"row_heading level0 row1\" >1</th>\n",
       "      <td id=\"T_6e192_row1_col0\" class=\"data row1 col0\" >http://purl.uniprot.org/diseases/4240</td>\n",
       "      <td id=\"T_6e192_row1_col1\" class=\"data row1 col1\" >The protein represented in this entry is involved in disease pathogenesis. A selective decrease in mitochondrial NADP(H) levels due to NADK2 mutations causes a deficiency of NADPH-dependent mitochondrial enzymes, such as DECR1 and AASS.</td>\n",
       "      <td id=\"T_6e192_row1_col2\" class=\"data row1 col2\" >[]</td>\n",
       "      <td id=\"T_6e192_row1_col3\" class=\"data row1 col3\" >['NADP', 'NADK2', 'NADPH', 'DECR1', 'AASS']</td>\n",
       "    </tr>\n",
       "    <tr>\n",
       "      <th id=\"T_6e192_level0_row2\" class=\"row_heading level0 row2\" >2</th>\n",
       "      <td id=\"T_6e192_row2_col0\" class=\"data row2 col0\" >http://purl.uniprot.org/diseases/1676</td>\n",
       "      <td id=\"T_6e192_row2_col1\" class=\"data row2 col1\" >The disease is caused by variants affecting the gene represented in this entry.</td>\n",
       "      <td id=\"T_6e192_row2_col2\" class=\"data row2 col2\" >[]</td>\n",
       "      <td id=\"T_6e192_row2_col3\" class=\"data row2 col3\" >[]</td>\n",
       "    </tr>\n",
       "    <tr>\n",
       "      <th id=\"T_6e192_level0_row3\" class=\"row_heading level0 row3\" >3</th>\n",
       "      <td id=\"T_6e192_row3_col0\" class=\"data row3 col0\" >http://purl.uniprot.org/diseases/245</td>\n",
       "      <td id=\"T_6e192_row3_col1\" class=\"data row3 col1\" >The disease is caused by variants affecting the gene represented in this entry.</td>\n",
       "      <td id=\"T_6e192_row3_col2\" class=\"data row3 col2\" >[]</td>\n",
       "      <td id=\"T_6e192_row3_col3\" class=\"data row3 col3\" >[]</td>\n",
       "    </tr>\n",
       "    <tr>\n",
       "      <th id=\"T_6e192_level0_row4\" class=\"row_heading level0 row4\" >4</th>\n",
       "      <td id=\"T_6e192_row4_col0\" class=\"data row4 col0\" >http://purl.uniprot.org/diseases/1150</td>\n",
       "      <td id=\"T_6e192_row4_col1\" class=\"data row4 col1\" >The disease is caused by variants affecting the gene represented in this entry.</td>\n",
       "      <td id=\"T_6e192_row4_col2\" class=\"data row4 col2\" >[]</td>\n",
       "      <td id=\"T_6e192_row4_col3\" class=\"data row4 col3\" >[]</td>\n",
       "    </tr>\n",
       "    <tr>\n",
       "      <th id=\"T_6e192_level0_row5\" class=\"row_heading level0 row5\" >5</th>\n",
       "      <td id=\"T_6e192_row5_col0\" class=\"data row5 col0\" >http://purl.uniprot.org/diseases/5064</td>\n",
       "      <td id=\"T_6e192_row5_col1\" class=\"data row5 col1\" >The disease is caused by variants affecting the gene represented in this entry.</td>\n",
       "      <td id=\"T_6e192_row5_col2\" class=\"data row5 col2\" >[]</td>\n",
       "      <td id=\"T_6e192_row5_col3\" class=\"data row5 col3\" >[]</td>\n",
       "    </tr>\n",
       "    <tr>\n",
       "      <th id=\"T_6e192_level0_row6\" class=\"row_heading level0 row6\" >6</th>\n",
       "      <td id=\"T_6e192_row6_col0\" class=\"data row6 col0\" >http://purl.uniprot.org/diseases/3735</td>\n",
       "      <td id=\"T_6e192_row6_col1\" class=\"data row6 col1\" >The gene represented in this entry is involved in disease pathogenesis.</td>\n",
       "      <td id=\"T_6e192_row6_col2\" class=\"data row6 col2\" >[]</td>\n",
       "      <td id=\"T_6e192_row6_col3\" class=\"data row6 col3\" >[]</td>\n",
       "    </tr>\n",
       "    <tr>\n",
       "      <th id=\"T_6e192_level0_row7\" class=\"row_heading level0 row7\" >7</th>\n",
       "      <td id=\"T_6e192_row7_col0\" class=\"data row7 col0\" >http://purl.uniprot.org/diseases/1164</td>\n",
       "      <td id=\"T_6e192_row7_col1\" class=\"data row7 col1\" >The disease is caused by variants affecting the gene represented in this entry.</td>\n",
       "      <td id=\"T_6e192_row7_col2\" class=\"data row7 col2\" >[]</td>\n",
       "      <td id=\"T_6e192_row7_col3\" class=\"data row7 col3\" >[]</td>\n",
       "    </tr>\n",
       "    <tr>\n",
       "      <th id=\"T_6e192_level0_row8\" class=\"row_heading level0 row8\" >8</th>\n",
       "      <td id=\"T_6e192_row8_col0\" class=\"data row8 col0\" >http://purl.uniprot.org/diseases/2602</td>\n",
       "      <td id=\"T_6e192_row8_col1\" class=\"data row8 col1\" >Disease susceptibility is associated with variants affecting the gene represented in this entry.</td>\n",
       "      <td id=\"T_6e192_row8_col2\" class=\"data row8 col2\" >[]</td>\n",
       "      <td id=\"T_6e192_row8_col3\" class=\"data row8 col3\" >[]</td>\n",
       "    </tr>\n",
       "    <tr>\n",
       "      <th id=\"T_6e192_level0_row9\" class=\"row_heading level0 row9\" >9</th>\n",
       "      <td id=\"T_6e192_row9_col0\" class=\"data row9 col0\" >http://purl.uniprot.org/diseases/5294</td>\n",
       "      <td id=\"T_6e192_row9_col1\" class=\"data row9 col1\" >Disease susceptibility is associated with variants affecting the gene represented in this entry.</td>\n",
       "      <td id=\"T_6e192_row9_col2\" class=\"data row9 col2\" >[]</td>\n",
       "      <td id=\"T_6e192_row9_col3\" class=\"data row9 col3\" >[]</td>\n",
       "    </tr>\n",
       "  </tbody>\n",
       "</table>\n"
      ],
      "text/plain": [
       "<pandas.io.formats.style.Styler at 0x10980bb80>"
      ]
     },
     "metadata": {},
     "output_type": "display_data"
    }
   ],
   "source": [
    "import pandas as pd\n",
    "import re\n",
    "\n",
    "# Assuming df_disease_simple from Step 1 already exists\n",
    "\n",
    "# Define regex patterns for variants and genes\n",
    "variant_pattern = r\"\\bvariant\\s\\w+\\b|\\bmutation\\b|\\bpolymorphism\\b\"  # Adjust patterns as needed\n",
    "gene_pattern = r\"\\b[A-Z0-9]{2,}\\b\"  # Basic pattern for gene identifiers, e.g., BRCA1, TP53\n",
    "\n",
    "# Extract details for each disease annotation\n",
    "extracted_info = []\n",
    "for _, row in df_disease_simple.iterrows():\n",
    "    disease_id = row[\"Disease\"]\n",
    "    comment = row[\"Comment\"]\n",
    "    \n",
    "    # Find all variants and gene mentions\n",
    "    variants = re.findall(variant_pattern, comment, flags=re.IGNORECASE)\n",
    "    genes = re.findall(gene_pattern, comment)\n",
    "    \n",
    "    # Store results in a structured format\n",
    "    extracted_info.append({\n",
    "        \"Disease\": disease_id,\n",
    "        \"Comment\": comment,\n",
    "        \"Variants\": variants,\n",
    "        \"Genes\": genes\n",
    "    })\n",
    "\n",
    "# Convert to DataFrame\n",
    "df_extracted_info = pd.DataFrame(extracted_info)\n",
    "\n",
    "# Apply wrapping style to comment for readability\n",
    "df_extracted_info_styled = df_extracted_info.style.set_properties(\n",
    "    **{'white-space': 'pre-wrap', 'text-align': 'left'}\n",
    ")\n",
    "\n",
    "# Display the wrapped DataFrame in Jupyter\n",
    "display(df_extracted_info_styled)\n",
    "\n"
   ]
  },
  {
   "cell_type": "markdown",
   "id": "cada9707-a20f-4020-af78-2cfabd242692",
   "metadata": {},
   "source": [
    "## Generate complete ShEx shapes from VoID description\n",
    "\n",
    "You can also generate the complete ShEx shapes foar SPARQL endpoint with:"
   ]
  },
  {
   "cell_type": "code",
   "execution_count": 7,
   "id": "beea8b7e-0570-4321-8a4e-27cff0ab3d77",
   "metadata": {},
   "outputs": [
    {
     "ename": "ImportError",
     "evalue": "cannot import name 'get_shex_from_void' from 'sparql_llm' (/Users/annedeslattesmays/miniconda3/envs/sparqllm/lib/python3.9/site-packages/sparql_llm/__init__.py)",
     "output_type": "error",
     "traceback": [
      "\u001b[0;31m---------------------------------------------------------------------------\u001b[0m",
      "\u001b[0;31mImportError\u001b[0m                               Traceback (most recent call last)",
      "Cell \u001b[0;32mIn[7], line 1\u001b[0m\n\u001b[0;32m----> 1\u001b[0m \u001b[38;5;28;01mfrom\u001b[39;00m \u001b[38;5;21;01msparql_llm\u001b[39;00m \u001b[38;5;28;01mimport\u001b[39;00m get_shex_from_void\n\u001b[1;32m      3\u001b[0m shex_str \u001b[38;5;241m=\u001b[39m get_shex_from_void(\u001b[38;5;124m\"\u001b[39m\u001b[38;5;124mhttps://sparql.uniprot.org/sparql/\u001b[39m\u001b[38;5;124m\"\u001b[39m)\n\u001b[1;32m      4\u001b[0m \u001b[38;5;28mprint\u001b[39m(shex_str)\n",
      "\u001b[0;31mImportError\u001b[0m: cannot import name 'get_shex_from_void' from 'sparql_llm' (/Users/annedeslattesmays/miniconda3/envs/sparqllm/lib/python3.9/site-packages/sparql_llm/__init__.py)"
     ]
    }
   ],
   "source": [
    "from sparql_llm import get_shex_from_void\n",
    "\n",
    "shex_str = get_shex_from_void(\"https://sparql.uniprot.org/sparql/\")\n",
    "print(shex_str)"
   ]
  },
  {
   "cell_type": "code",
   "execution_count": null,
   "id": "a5e7eb88-6bee-42b9-bc9e-b6e5331eb86a",
   "metadata": {},
   "outputs": [],
   "source": []
  }
 ],
 "metadata": {
  "kernelspec": {
   "display_name": "Python 3 (ipykernel)",
   "language": "python",
   "name": "python3"
  },
  "language_info": {
   "codemirror_mode": {
    "name": "ipython",
    "version": 3
   },
   "file_extension": ".py",
   "mimetype": "text/x-python",
   "name": "python",
   "nbconvert_exporter": "python",
   "pygments_lexer": "ipython3",
   "version": "3.9.20"
  }
 },
 "nbformat": 4,
 "nbformat_minor": 5
}
