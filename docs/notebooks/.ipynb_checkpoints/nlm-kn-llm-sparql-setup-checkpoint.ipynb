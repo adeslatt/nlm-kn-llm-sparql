{
 "cells": [
  {
   "cell_type": "markdown",
   "id": "32c5abef-9c4d-415b-b6df-04557207fd37",
   "metadata": {},
   "source": [
    "## SPARQL query examples loader\n"
   ]
  },
  {
   "cell_type": "code",
   "execution_count": 2,
   "id": "41f122b2-e92e-4334-b4d2-de5a9bf24b6c",
   "metadata": {},
   "outputs": [
    {
     "ename": "ModuleNotFoundError",
     "evalue": "No module named 'sparql_llm'",
     "output_type": "error",
     "traceback": [
      "\u001b[0;31m---------------------------------------------------------------------------\u001b[0m",
      "\u001b[0;31mModuleNotFoundError\u001b[0m                       Traceback (most recent call last)",
      "Cell \u001b[0;32mIn[2], line 1\u001b[0m\n\u001b[0;32m----> 1\u001b[0m \u001b[38;5;28;01mfrom\u001b[39;00m \u001b[38;5;21;01msparql_llm\u001b[39;00m \u001b[38;5;28;01mimport\u001b[39;00m SparqlExamplesLoader\n\u001b[1;32m      3\u001b[0m loader \u001b[38;5;241m=\u001b[39m SparqlExamplesLoader(\u001b[38;5;124m\"\u001b[39m\u001b[38;5;124mhttps://sparql.uniprot.org/sparql/\u001b[39m\u001b[38;5;124m\"\u001b[39m)\n\u001b[1;32m      4\u001b[0m docs \u001b[38;5;241m=\u001b[39m loader\u001b[38;5;241m.\u001b[39mload()\n",
      "\u001b[0;31mModuleNotFoundError\u001b[0m: No module named 'sparql_llm'"
     ]
    }
   ],
   "source": [
    "from sparql_llm import SparqlExamplesLoader\n",
    "\n",
    "loader = SparqlExamplesLoader(\"https://sparql.uniprot.org/sparql/\")\n",
    "docs = loader.load()\n",
    "print(len(docs))\n",
    "print(docs[0].metadata)"
   ]
  },
  {
   "cell_type": "code",
   "execution_count": null,
   "id": "6053498c-91f7-42e9-818a-af45a5bfa99e",
   "metadata": {},
   "outputs": [],
   "source": []
  }
 ],
 "metadata": {
  "kernelspec": {
   "display_name": "Python 3 (ipykernel)",
   "language": "python",
   "name": "python3"
  },
  "language_info": {
   "codemirror_mode": {
    "name": "ipython",
    "version": 3
   },
   "file_extension": ".py",
   "mimetype": "text/x-python",
   "name": "python",
   "nbconvert_exporter": "python",
   "pygments_lexer": "ipython3",
   "version": "3.13.0"
  }
 },
 "nbformat": 4,
 "nbformat_minor": 5
}
